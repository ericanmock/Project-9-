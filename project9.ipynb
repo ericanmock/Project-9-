{
 "cells": [
  {
   "cell_type": "markdown",
   "id": "98413cff",
   "metadata": {},
   "source": [
    "## Project 9\n",
    "\n",
    "A data analysis on professional men's and womens tennis stats in 2009 and in 2023. This will be a comparitave and general analysis, aiming to find any patterns in the most successful players. "
   ]
  },
  {
   "cell_type": "markdown",
   "id": "d59b7e60",
   "metadata": {},
   "source": [
    "Data published by: https://github.com/JeffSackmann\n",
    "Accessed December 4, 2023.\n",
    "\n",
    "Link to Github Repository:\n",
    "\n"
   ]
  },
  {
   "cell_type": "code",
   "execution_count": 44,
   "id": "b4d50c73",
   "metadata": {},
   "outputs": [],
   "source": [
    "# import packages\n",
    "\n",
    "import pandas as pd\n",
    "import numpy as np\n",
    "import matplotlib.pyplot as plt \n"
   ]
  },
  {
   "cell_type": "code",
   "execution_count": 45,
   "id": "2205b618",
   "metadata": {},
   "outputs": [],
   "source": [
    "# loading csv files\n",
    "\n",
    "stats_2023 = pd.read_csv('atp_matches_2023.csv')\n",
    "stats_2009 = pd.read_csv('atp_matches_2009.csv')"
   ]
  },
  {
   "cell_type": "code",
   "execution_count": 46,
   "id": "cba1f44d",
   "metadata": {},
   "outputs": [
    {
     "data": {
      "text/html": [
       "<div>\n",
       "<style scoped>\n",
       "    .dataframe tbody tr th:only-of-type {\n",
       "        vertical-align: middle;\n",
       "    }\n",
       "\n",
       "    .dataframe tbody tr th {\n",
       "        vertical-align: top;\n",
       "    }\n",
       "\n",
       "    .dataframe thead th {\n",
       "        text-align: right;\n",
       "    }\n",
       "</style>\n",
       "<table border=\"1\" class=\"dataframe\">\n",
       "  <thead>\n",
       "    <tr style=\"text-align: right;\">\n",
       "      <th></th>\n",
       "      <th>tourney_id</th>\n",
       "      <th>tourney_name</th>\n",
       "      <th>surface</th>\n",
       "      <th>draw_size</th>\n",
       "      <th>tourney_level</th>\n",
       "      <th>tourney_date</th>\n",
       "      <th>match_num</th>\n",
       "      <th>winner_id</th>\n",
       "      <th>winner_seed</th>\n",
       "      <th>winner_entry</th>\n",
       "      <th>...</th>\n",
       "      <th>l_1stIn</th>\n",
       "      <th>l_1stWon</th>\n",
       "      <th>l_2ndWon</th>\n",
       "      <th>l_SvGms</th>\n",
       "      <th>l_bpSaved</th>\n",
       "      <th>l_bpFaced</th>\n",
       "      <th>winner_rank</th>\n",
       "      <th>winner_rank_points</th>\n",
       "      <th>loser_rank</th>\n",
       "      <th>loser_rank_points</th>\n",
       "    </tr>\n",
       "  </thead>\n",
       "  <tbody>\n",
       "    <tr>\n",
       "      <th>0</th>\n",
       "      <td>2023-9900</td>\n",
       "      <td>United Cup</td>\n",
       "      <td>Hard</td>\n",
       "      <td>18</td>\n",
       "      <td>A</td>\n",
       "      <td>20230102</td>\n",
       "      <td>300</td>\n",
       "      <td>126203</td>\n",
       "      <td>3.0</td>\n",
       "      <td>NaN</td>\n",
       "      <td>...</td>\n",
       "      <td>62.0</td>\n",
       "      <td>47.0</td>\n",
       "      <td>15.0</td>\n",
       "      <td>12.0</td>\n",
       "      <td>9.0</td>\n",
       "      <td>9.0</td>\n",
       "      <td>9.0</td>\n",
       "      <td>3355.0</td>\n",
       "      <td>16.0</td>\n",
       "      <td>2375.0</td>\n",
       "    </tr>\n",
       "    <tr>\n",
       "      <th>1</th>\n",
       "      <td>2023-9900</td>\n",
       "      <td>United Cup</td>\n",
       "      <td>Hard</td>\n",
       "      <td>18</td>\n",
       "      <td>A</td>\n",
       "      <td>20230102</td>\n",
       "      <td>299</td>\n",
       "      <td>126207</td>\n",
       "      <td>NaN</td>\n",
       "      <td>NaN</td>\n",
       "      <td>...</td>\n",
       "      <td>12.0</td>\n",
       "      <td>8.0</td>\n",
       "      <td>3.0</td>\n",
       "      <td>4.0</td>\n",
       "      <td>1.0</td>\n",
       "      <td>3.0</td>\n",
       "      <td>19.0</td>\n",
       "      <td>2000.0</td>\n",
       "      <td>23.0</td>\n",
       "      <td>1865.0</td>\n",
       "    </tr>\n",
       "    <tr>\n",
       "      <th>2</th>\n",
       "      <td>2023-9900</td>\n",
       "      <td>United Cup</td>\n",
       "      <td>Hard</td>\n",
       "      <td>18</td>\n",
       "      <td>A</td>\n",
       "      <td>20230102</td>\n",
       "      <td>296</td>\n",
       "      <td>126203</td>\n",
       "      <td>3.0</td>\n",
       "      <td>NaN</td>\n",
       "      <td>...</td>\n",
       "      <td>62.0</td>\n",
       "      <td>51.0</td>\n",
       "      <td>7.0</td>\n",
       "      <td>12.0</td>\n",
       "      <td>2.0</td>\n",
       "      <td>2.0</td>\n",
       "      <td>9.0</td>\n",
       "      <td>3355.0</td>\n",
       "      <td>10.0</td>\n",
       "      <td>2905.0</td>\n",
       "    </tr>\n",
       "    <tr>\n",
       "      <th>3</th>\n",
       "      <td>2023-9900</td>\n",
       "      <td>United Cup</td>\n",
       "      <td>Hard</td>\n",
       "      <td>18</td>\n",
       "      <td>A</td>\n",
       "      <td>20230102</td>\n",
       "      <td>295</td>\n",
       "      <td>126207</td>\n",
       "      <td>NaN</td>\n",
       "      <td>NaN</td>\n",
       "      <td>...</td>\n",
       "      <td>41.0</td>\n",
       "      <td>26.0</td>\n",
       "      <td>12.0</td>\n",
       "      <td>9.0</td>\n",
       "      <td>6.0</td>\n",
       "      <td>9.0</td>\n",
       "      <td>19.0</td>\n",
       "      <td>2000.0</td>\n",
       "      <td>245.0</td>\n",
       "      <td>220.0</td>\n",
       "    </tr>\n",
       "    <tr>\n",
       "      <th>4</th>\n",
       "      <td>2023-9900</td>\n",
       "      <td>United Cup</td>\n",
       "      <td>Hard</td>\n",
       "      <td>18</td>\n",
       "      <td>A</td>\n",
       "      <td>20230102</td>\n",
       "      <td>292</td>\n",
       "      <td>126774</td>\n",
       "      <td>1.0</td>\n",
       "      <td>NaN</td>\n",
       "      <td>...</td>\n",
       "      <td>58.0</td>\n",
       "      <td>48.0</td>\n",
       "      <td>18.0</td>\n",
       "      <td>16.0</td>\n",
       "      <td>1.0</td>\n",
       "      <td>2.0</td>\n",
       "      <td>4.0</td>\n",
       "      <td>5550.0</td>\n",
       "      <td>16.0</td>\n",
       "      <td>2375.0</td>\n",
       "    </tr>\n",
       "  </tbody>\n",
       "</table>\n",
       "<p>5 rows × 49 columns</p>\n",
       "</div>"
      ],
      "text/plain": [
       "  tourney_id tourney_name surface  draw_size tourney_level  tourney_date  \\\n",
       "0  2023-9900   United Cup    Hard         18             A      20230102   \n",
       "1  2023-9900   United Cup    Hard         18             A      20230102   \n",
       "2  2023-9900   United Cup    Hard         18             A      20230102   \n",
       "3  2023-9900   United Cup    Hard         18             A      20230102   \n",
       "4  2023-9900   United Cup    Hard         18             A      20230102   \n",
       "\n",
       "   match_num  winner_id  winner_seed winner_entry  ... l_1stIn l_1stWon  \\\n",
       "0        300     126203          3.0          NaN  ...    62.0     47.0   \n",
       "1        299     126207          NaN          NaN  ...    12.0      8.0   \n",
       "2        296     126203          3.0          NaN  ...    62.0     51.0   \n",
       "3        295     126207          NaN          NaN  ...    41.0     26.0   \n",
       "4        292     126774          1.0          NaN  ...    58.0     48.0   \n",
       "\n",
       "   l_2ndWon l_SvGms  l_bpSaved  l_bpFaced  winner_rank winner_rank_points  \\\n",
       "0      15.0    12.0        9.0        9.0          9.0             3355.0   \n",
       "1       3.0     4.0        1.0        3.0         19.0             2000.0   \n",
       "2       7.0    12.0        2.0        2.0          9.0             3355.0   \n",
       "3      12.0     9.0        6.0        9.0         19.0             2000.0   \n",
       "4      18.0    16.0        1.0        2.0          4.0             5550.0   \n",
       "\n",
       "  loser_rank loser_rank_points  \n",
       "0       16.0            2375.0  \n",
       "1       23.0            1865.0  \n",
       "2       10.0            2905.0  \n",
       "3      245.0             220.0  \n",
       "4       16.0            2375.0  \n",
       "\n",
       "[5 rows x 49 columns]"
      ]
     },
     "execution_count": 46,
     "metadata": {},
     "output_type": "execute_result"
    }
   ],
   "source": [
    "# take a peek...\n",
    "\n",
    "stats_2023.head()\n"
   ]
  },
  {
   "cell_type": "code",
   "execution_count": 47,
   "id": "939e9248",
   "metadata": {},
   "outputs": [
    {
     "data": {
      "text/html": [
       "<div>\n",
       "<style scoped>\n",
       "    .dataframe tbody tr th:only-of-type {\n",
       "        vertical-align: middle;\n",
       "    }\n",
       "\n",
       "    .dataframe tbody tr th {\n",
       "        vertical-align: top;\n",
       "    }\n",
       "\n",
       "    .dataframe thead th {\n",
       "        text-align: right;\n",
       "    }\n",
       "</style>\n",
       "<table border=\"1\" class=\"dataframe\">\n",
       "  <thead>\n",
       "    <tr style=\"text-align: right;\">\n",
       "      <th></th>\n",
       "      <th>tourney_id</th>\n",
       "      <th>tourney_name</th>\n",
       "      <th>surface</th>\n",
       "      <th>draw_size</th>\n",
       "      <th>tourney_level</th>\n",
       "      <th>tourney_date</th>\n",
       "      <th>match_num</th>\n",
       "      <th>winner_id</th>\n",
       "      <th>winner_seed</th>\n",
       "      <th>winner_entry</th>\n",
       "      <th>...</th>\n",
       "      <th>l_1stIn</th>\n",
       "      <th>l_1stWon</th>\n",
       "      <th>l_2ndWon</th>\n",
       "      <th>l_SvGms</th>\n",
       "      <th>l_bpSaved</th>\n",
       "      <th>l_bpFaced</th>\n",
       "      <th>winner_rank</th>\n",
       "      <th>winner_rank_points</th>\n",
       "      <th>loser_rank</th>\n",
       "      <th>loser_rank_points</th>\n",
       "    </tr>\n",
       "  </thead>\n",
       "  <tbody>\n",
       "    <tr>\n",
       "      <th>0</th>\n",
       "      <td>2009-1536</td>\n",
       "      <td>Madrid Masters</td>\n",
       "      <td>Clay</td>\n",
       "      <td>56</td>\n",
       "      <td>M</td>\n",
       "      <td>20090510</td>\n",
       "      <td>1</td>\n",
       "      <td>103781</td>\n",
       "      <td>NaN</td>\n",
       "      <td>NaN</td>\n",
       "      <td>...</td>\n",
       "      <td>51.0</td>\n",
       "      <td>35.0</td>\n",
       "      <td>26.0</td>\n",
       "      <td>15.0</td>\n",
       "      <td>3.0</td>\n",
       "      <td>6.0</td>\n",
       "      <td>27.0</td>\n",
       "      <td>1735.0</td>\n",
       "      <td>28.0</td>\n",
       "      <td>1724.0</td>\n",
       "    </tr>\n",
       "    <tr>\n",
       "      <th>1</th>\n",
       "      <td>2009-1536</td>\n",
       "      <td>Madrid Masters</td>\n",
       "      <td>Clay</td>\n",
       "      <td>56</td>\n",
       "      <td>M</td>\n",
       "      <td>20090510</td>\n",
       "      <td>2</td>\n",
       "      <td>104259</td>\n",
       "      <td>NaN</td>\n",
       "      <td>NaN</td>\n",
       "      <td>...</td>\n",
       "      <td>36.0</td>\n",
       "      <td>29.0</td>\n",
       "      <td>13.0</td>\n",
       "      <td>9.0</td>\n",
       "      <td>7.0</td>\n",
       "      <td>9.0</td>\n",
       "      <td>35.0</td>\n",
       "      <td>1510.0</td>\n",
       "      <td>34.0</td>\n",
       "      <td>1515.0</td>\n",
       "    </tr>\n",
       "    <tr>\n",
       "      <th>2</th>\n",
       "      <td>2009-1536</td>\n",
       "      <td>Madrid Masters</td>\n",
       "      <td>Clay</td>\n",
       "      <td>56</td>\n",
       "      <td>M</td>\n",
       "      <td>20090510</td>\n",
       "      <td>3</td>\n",
       "      <td>105227</td>\n",
       "      <td>13.0</td>\n",
       "      <td>NaN</td>\n",
       "      <td>...</td>\n",
       "      <td>45.0</td>\n",
       "      <td>26.0</td>\n",
       "      <td>21.0</td>\n",
       "      <td>13.0</td>\n",
       "      <td>5.0</td>\n",
       "      <td>10.0</td>\n",
       "      <td>14.0</td>\n",
       "      <td>2635.0</td>\n",
       "      <td>90.0</td>\n",
       "      <td>835.0</td>\n",
       "    </tr>\n",
       "    <tr>\n",
       "      <th>3</th>\n",
       "      <td>2009-1536</td>\n",
       "      <td>Madrid Masters</td>\n",
       "      <td>Clay</td>\n",
       "      <td>56</td>\n",
       "      <td>M</td>\n",
       "      <td>20090510</td>\n",
       "      <td>4</td>\n",
       "      <td>103970</td>\n",
       "      <td>12.0</td>\n",
       "      <td>NaN</td>\n",
       "      <td>...</td>\n",
       "      <td>26.0</td>\n",
       "      <td>14.0</td>\n",
       "      <td>18.0</td>\n",
       "      <td>8.0</td>\n",
       "      <td>7.0</td>\n",
       "      <td>12.0</td>\n",
       "      <td>13.0</td>\n",
       "      <td>2645.0</td>\n",
       "      <td>108.0</td>\n",
       "      <td>734.0</td>\n",
       "    </tr>\n",
       "    <tr>\n",
       "      <th>4</th>\n",
       "      <td>2009-1536</td>\n",
       "      <td>Madrid Masters</td>\n",
       "      <td>Clay</td>\n",
       "      <td>56</td>\n",
       "      <td>M</td>\n",
       "      <td>20090510</td>\n",
       "      <td>5</td>\n",
       "      <td>104338</td>\n",
       "      <td>NaN</td>\n",
       "      <td>WC</td>\n",
       "      <td>...</td>\n",
       "      <td>44.0</td>\n",
       "      <td>31.0</td>\n",
       "      <td>25.0</td>\n",
       "      <td>11.0</td>\n",
       "      <td>12.0</td>\n",
       "      <td>14.0</td>\n",
       "      <td>47.0</td>\n",
       "      <td>1240.0</td>\n",
       "      <td>32.0</td>\n",
       "      <td>1620.0</td>\n",
       "    </tr>\n",
       "  </tbody>\n",
       "</table>\n",
       "<p>5 rows × 49 columns</p>\n",
       "</div>"
      ],
      "text/plain": [
       "  tourney_id    tourney_name surface  draw_size tourney_level  tourney_date  \\\n",
       "0  2009-1536  Madrid Masters    Clay         56             M      20090510   \n",
       "1  2009-1536  Madrid Masters    Clay         56             M      20090510   \n",
       "2  2009-1536  Madrid Masters    Clay         56             M      20090510   \n",
       "3  2009-1536  Madrid Masters    Clay         56             M      20090510   \n",
       "4  2009-1536  Madrid Masters    Clay         56             M      20090510   \n",
       "\n",
       "   match_num  winner_id  winner_seed winner_entry  ... l_1stIn l_1stWon  \\\n",
       "0          1     103781          NaN          NaN  ...    51.0     35.0   \n",
       "1          2     104259          NaN          NaN  ...    36.0     29.0   \n",
       "2          3     105227         13.0          NaN  ...    45.0     26.0   \n",
       "3          4     103970         12.0          NaN  ...    26.0     14.0   \n",
       "4          5     104338          NaN           WC  ...    44.0     31.0   \n",
       "\n",
       "   l_2ndWon l_SvGms  l_bpSaved  l_bpFaced  winner_rank winner_rank_points  \\\n",
       "0      26.0    15.0        3.0        6.0         27.0             1735.0   \n",
       "1      13.0     9.0        7.0        9.0         35.0             1510.0   \n",
       "2      21.0    13.0        5.0       10.0         14.0             2635.0   \n",
       "3      18.0     8.0        7.0       12.0         13.0             2645.0   \n",
       "4      25.0    11.0       12.0       14.0         47.0             1240.0   \n",
       "\n",
       "  loser_rank loser_rank_points  \n",
       "0       28.0            1724.0  \n",
       "1       34.0            1515.0  \n",
       "2       90.0             835.0  \n",
       "3      108.0             734.0  \n",
       "4       32.0            1620.0  \n",
       "\n",
       "[5 rows x 49 columns]"
      ]
     },
     "execution_count": 47,
     "metadata": {},
     "output_type": "execute_result"
    }
   ],
   "source": [
    "\n",
    "stats_2009.head()\n"
   ]
  },
  {
   "cell_type": "code",
   "execution_count": 50,
   "id": "356b903f",
   "metadata": {},
   "outputs": [
    {
     "name": "stdout",
     "output_type": "stream",
     "text": [
      "['tourney_id', 'tourney_name', 'surface', 'draw_size', 'tourney_level', 'tourney_date', 'match_num', 'winner_id', 'winner_seed', 'winner_entry', 'winner_name', 'winner_hand', 'winner_ht', 'winner_ioc', 'winner_age', 'loser_id', 'loser_seed', 'loser_entry', 'loser_name', 'loser_hand', 'loser_ht', 'loser_ioc', 'loser_age', 'score', 'best_of', 'round', 'minutes', 'w_ace', 'w_df', 'w_svpt', 'w_1stIn', 'w_1stWon', 'w_2ndWon', 'w_SvGms', 'w_bpSaved', 'w_bpFaced', 'l_ace', 'l_df', 'l_svpt', 'l_1stIn', 'l_1stWon', 'l_2ndWon', 'l_SvGms', 'l_bpSaved', 'l_bpFaced', 'winner_rank', 'winner_rank_points', 'loser_rank', 'loser_rank_points']\n"
     ]
    }
   ],
   "source": [
    "# displaying columns\n",
    "column_names = stats_2023.columns.tolist()\n",
    "print(column_names)"
   ]
  },
  {
   "cell_type": "markdown",
   "id": "c901b66b",
   "metadata": {},
   "source": [
    "QUESTION: Which player won the most matches in 2023?"
   ]
  },
  {
   "cell_type": "code",
   "execution_count": 85,
   "id": "eb6d0813",
   "metadata": {},
   "outputs": [
    {
     "name": "stdout",
     "output_type": "stream",
     "text": [
      "Daniil Medvedev\n"
     ]
    }
   ],
   "source": [
    "# which player had the most amount of match wins in 2023?\n",
    "win_counts = stats_2023['winner_name'].value_counts()\n",
    "\n",
    "most_wins_player = win_counts.idxmax()\n",
    "most_wins_count = win_counts.max()\n",
    "\n",
    "print(most_wins_player)"
   ]
  },
  {
   "cell_type": "markdown",
   "id": "4e391de5",
   "metadata": {},
   "source": [
    "Cool! Go Medvedev! \n",
    "\n",
    "QUESTION: Which players were playing in the final round of every tournament in 2023? "
   ]
  },
  {
   "cell_type": "code",
   "execution_count": 86,
   "id": "c75ae4c6",
   "metadata": {},
   "outputs": [
    {
     "name": "stdout",
     "output_type": "stream",
     "text": [
      "Tournament: United Cup, Winner: Taylor Fritz, Loser: Matteo Berrettini\n",
      "Tournament: United Cup, Winner: Frances Tiafoe, Loser: Lorenzo Musetti\n",
      "Tournament: Adelaide 1, Winner: Novak Djokovic, Loser: Sebastian Korda\n",
      "Tournament: Pune, Winner: Tallon Griekspoor, Loser: Benjamin Bonzi\n",
      "Tournament: Auckland, Winner: Richard Gasquet, Loser: Cameron Norrie\n",
      "Tournament: Adelaide 2, Winner: Soon Woo Kwon, Loser: Roberto Bautista Agut\n",
      "Tournament: Australian Open, Winner: Novak Djokovic, Loser: Stefanos Tsitsipas\n",
      "Tournament: Cordoba, Winner: Sebastian Baez, Loser: Federico Coria\n",
      "Tournament: Dallas, Winner: Yibing Wu, Loser: John Isner\n",
      "Tournament: Montpellier, Winner: Jannik Sinner, Loser: Maxime Cressy\n",
      "Tournament: Delray Beach, Winner: Taylor Fritz, Loser: Miomir Kecmanovic\n",
      "Tournament: Buenos Aires, Winner: Carlos Alcaraz, Loser: Cameron Norrie\n",
      "Tournament: Rotterdam, Winner: Daniil Medvedev, Loser: Jannik Sinner\n",
      "Tournament: Doha, Winner: Daniil Medvedev, Loser: Andy Murray\n",
      "Tournament: Rio De Janeiro, Winner: Cameron Norrie, Loser: Carlos Alcaraz\n",
      "Tournament: Marseille, Winner: Hubert Hurkacz, Loser: Benjamin Bonzi\n",
      "Tournament: Acapulco, Winner: Alex De Minaur, Loser: Tommy Paul\n",
      "Tournament: Dubai, Winner: Daniil Medvedev, Loser: Andrey Rublev\n",
      "Tournament: Santiago, Winner: Nicolas Jarry, Loser: Tomas Martin Etcheverry\n",
      "Tournament: Indian Wells Masters, Winner: Carlos Alcaraz, Loser: Daniil Medvedev\n",
      "Tournament: Miami Masters, Winner: Daniil Medvedev, Loser: Jannik Sinner\n",
      "Tournament: Estoril, Winner: Casper Ruud, Loser: Miomir Kecmanovic\n",
      "Tournament: Houston, Winner: Frances Tiafoe, Loser: Tomas Martin Etcheverry\n",
      "Tournament: Marrakech, Winner: Roberto Carballes Baena, Loser: Alexandre Muller\n",
      "Tournament: Monte Carlo Masters, Winner: Andrey Rublev, Loser: Holger Rune\n",
      "Tournament: Barcelona, Winner: Carlos Alcaraz, Loser: Stefanos Tsitsipas\n",
      "Tournament: Munich, Winner: Holger Rune, Loser: Botic Van De Zandschulp\n",
      "Tournament: Banja Luka, Winner: Dusan Lajovic, Loser: Andrey Rublev\n",
      "Tournament: Madrid Masters, Winner: Carlos Alcaraz, Loser: Jan Lennard Struff\n",
      "Tournament: Rome Masters, Winner: Daniil Medvedev, Loser: Holger Rune\n",
      "Tournament: Geneva, Winner: Nicolas Jarry, Loser: Grigor Dimitrov\n",
      "Tournament: Lyon, Winner: Arthur Fils, Loser: Francisco Cerundolo\n",
      "Tournament: Roland Garros, Winner: Novak Djokovic, Loser: Casper Ruud\n",
      "Tournament: s Hertogenbosch, Winner: Tallon Griekspoor, Loser: Jordan Thompson\n",
      "Tournament: Stuttgart, Winner: Frances Tiafoe, Loser: Jan Lennard Struff\n",
      "Tournament: Halle, Winner: Alexander Bublik, Loser: Andrey Rublev\n",
      "Tournament: Queen's Club, Winner: Carlos Alcaraz, Loser: Alex De Minaur\n",
      "Tournament: Mallorca, Winner: Christopher Eubanks, Loser: Adrian Mannarino\n",
      "Tournament: Eastbourne, Winner: Francisco Cerundolo, Loser: Tommy Paul\n",
      "Tournament: Wimbledon, Winner: Carlos Alcaraz, Loser: Novak Djokovic\n",
      "Tournament: Gstaad, Winner: Pedro Cachin, Loser: Albert Ramos\n",
      "Tournament: Bastad, Winner: Andrey Rublev, Loser: Casper Ruud\n",
      "Tournament: Newport, Winner: Adrian Mannarino, Loser: Alex Michelsen\n",
      "Tournament: Atlanta, Winner: Taylor Fritz, Loser: Aleksandar Vukic\n",
      "Tournament: Hamburg, Winner: Alexander Zverev, Loser: Laslo Djere\n",
      "Tournament: Umag, Winner: Alexei Popyrin, Loser: Stan Wawrinka\n",
      "Tournament: Kitzbuhel, Winner: Sebastian Baez, Loser: Dominic Thiem\n",
      "Tournament: Los Cabos, Winner: Stefanos Tsitsipas, Loser: Alex De Minaur\n",
      "Tournament: Washington, Winner: Daniel Evans, Loser: Tallon Griekspoor\n",
      "Tournament: Canada Masters, Winner: Jannik Sinner, Loser: Alex De Minaur\n",
      "Tournament: Cincinnati Masters, Winner: Novak Djokovic, Loser: Carlos Alcaraz\n",
      "Tournament: Winston-Salem, Winner: Sebastian Baez, Loser: Jiri Lehecka\n",
      "Tournament: Us Open, Winner: Novak Djokovic, Loser: Daniil Medvedev\n",
      "Tournament: Chengdu, Winner: Alexander Zverev, Loser: Roman Safiullin\n",
      "Tournament: Zhuhai, Winner: Karen Khachanov, Loser: Yoshihito Nishioka\n",
      "Tournament: Astana, Winner: Adrian Mannarino, Loser: Sebastian Korda\n",
      "Tournament: Beijing, Winner: Jannik Sinner, Loser: Daniil Medvedev\n",
      "Tournament: Shanghai Masters, Winner: Hubert Hurkacz, Loser: Andrey Rublev\n",
      "Tournament: Stockholm, Winner: Gael Monfils, Loser: Pavel Kotov\n",
      "Tournament: Tokyo, Winner: Ben Shelton, Loser: Aslan Karatsev\n",
      "Tournament: Antwerp, Winner: Alexander Bublik, Loser: Arthur Fils\n",
      "Tournament: Basel, Winner: Felix Auger Aliassime, Loser: Hubert Hurkacz\n",
      "Tournament: Vienna, Winner: Daniil Medvedev, Loser: Jannik Sinner\n",
      "Tournament: Paris Masters, Winner: Novak Djokovic, Loser: Grigor Dimitrov\n",
      "Tournament: Metz, Winner: Ugo Humbert, Loser: Alexander Shevchenko\n",
      "Tournament: Sofia, Winner: Adrian Mannarino, Loser: Jack Draper\n",
      "Tournament: Tour Finals, Winner: Novak Djokovic, Loser: Jannik Sinner\n"
     ]
    }
   ],
   "source": [
    "# Filter the DataFrame to include only final rounds\n",
    "final_rounds_df = stats_2023[stats_2023['round'] == 'F']\n",
    "\n",
    "# Create a new DataFrame with only the columns 'tourney_name', 'winner_name', and 'loser_name'\n",
    "final_results_df = final_rounds_df[['tourney_name', 'winner_name', 'loser_name']]\n",
    "\n",
    "# Access the winner and loser names in each final round\n",
    "for index, row in final_results_df.iterrows():\n",
    "    tourney_name = row['tourney_name']\n",
    "    winner_name = row['winner_name']\n",
    "    loser_name = row['loser_name']\n",
    "    \n",
    "    # Print\n",
    "    print(f\"Tournament: {tourney_name}, Winner: {winner_name}, Loser: {loser_name}\")"
   ]
  },
  {
   "cell_type": "markdown",
   "id": "0b47ca9d",
   "metadata": {},
   "source": [
    "Visualization of the payers who made it to the final rounds but only those who won at least 3 finals:"
   ]
  },
  {
   "cell_type": "code",
   "execution_count": 87,
   "id": "49e28e89",
   "metadata": {},
   "outputs": [
    {
     "data": {
      "image/png": "[encoded data removed]",
      "text/plain": [
       "<Figure size 800x800 with 1 Axes>"
      ]
     },
     "metadata": {},
     "output_type": "display_data"
    }
   ],
   "source": [
    "# Count final rounds won by each player\n",
    "winner_counts = final_results_df['winner_name'].value_counts()\n",
    "\n",
    "# Filter the players who have won at least 3 final rounds\n",
    "winners_with_at_least_3_wins = winner_counts[winner_counts >= 3]\n",
    "\n",
    "# Plot\n",
    "plt.figure(figsize=(8, 8))\n",
    "winners_with_at_least_3_wins.plot(kind='pie', autopct='%1.1f%%')\n",
    "plt.title('Distribution of Winners with at Least 3 Final Round Wins')\n",
    "plt.show()"
   ]
  },
  {
   "cell_type": "markdown",
   "id": "f1d09328",
   "metadata": {},
   "source": [
    "Based on this pie chart it look the Novak Djokovic won the most amount of final rounds--an astounding 20% of all final rounds played this year. Right behind him are Carlos Alcaraz and Daniil Madvedev who tied, winning 17.6% of all final rounds. \n",
    "\n",
    "QUESTION: what percentage of final rounds did Djoker win out all all he played?  "
   ]
  },
  {
   "cell_type": "code",
   "execution_count": 84,
   "id": "7807b1fa",
   "metadata": {},
   "outputs": [
    {
     "name": "stdout",
     "output_type": "stream",
     "text": [
      "Novak Djokovic played a total of 8 finals, winninng 7 of them, ending the 2023 season with a 87.5% win percentage.\n"
     ]
    }
   ],
   "source": [
    "# Filter the DataFrame to get only Novak Djokovic's matches\n",
    "djokovic_matches = stats_2023[(stats_2023['winner_name'] == 'Novak Djokovic') | (stats_2023['loser_name'] == 'Novak Djokovic')]\n",
    "\n",
    "# Count the total number of final rounds played by Novak Djokovic\n",
    "djokovic_finals = djokovic_matches[djokovic_matches['round'] == 'F']\n",
    "total_final_rounds_played = len(djokovic_finals)\n",
    "\n",
    "# Count the number of final rounds won by Novak Djokovic\n",
    "total_final_rounds_won = final_results_df['winner_name'].value_counts().get('Novak Djokovic', 0)  # 0 if not found in the filtered winners\n",
    "\n",
    "# Calculate the win percentage\n",
    "win_percentage = (total_final_rounds_won / total_final_rounds_played) * 100\n",
    "\n",
    "print(f\"Novak Djokovic played a total of {total_final_rounds_played} finals, winninng {total_final_rounds_won} of them, ending the 2023 season with a {win_percentage}% win percentage.\")"
   ]
  },
  {
   "cell_type": "markdown",
   "id": "9d0c40d9",
   "metadata": {},
   "source": [
    "Wow! He's really good! What about Carlos?"
   ]
  },
  {
   "cell_type": "code",
   "execution_count": 89,
   "id": "b8732bf1",
   "metadata": {},
   "outputs": [
    {
     "name": "stdout",
     "output_type": "stream",
     "text": [
      "Carlos Alcaraz played a total of 8 finals, winning 6 of them, ending the 2023 season with a 75.0% win percentage.\n"
     ]
    }
   ],
   "source": [
    "# Filter the DataFrame to get only Carlos Alcaraz's matches\n",
    "alcaraz_matches = stats_2023[(stats_2023['winner_name'] == 'Carlos Alcaraz') | (stats_2023['loser_name'] == 'Carlos Alcaraz')]\n",
    "\n",
    "# Count the total number of final rounds played by Carlos Alcaraz\n",
    "alcaraz_finals = alcaraz_matches[alcaraz_matches['round'] == 'F']\n",
    "total_final_rounds_played = len(alcaraz_finals)\n",
    "\n",
    "# Count the number of final rounds won by Carlos Alcaraz\n",
    "total_final_rounds_won = final_results_df['winner_name'].value_counts().get('Carlos Alcaraz', 0)  # 0 if not found in the filtered winners\n",
    "\n",
    "# Calculate the win percentage\n",
    "win_percentage = (total_final_rounds_won / total_final_rounds_played) * 100\n",
    "\n",
    "print(f\"Carlos Alcaraz played a total of {total_final_rounds_played} finals, winning {total_final_rounds_won} of them, ending the 2023 season with a {win_percentage}% win percentage.\")"
   ]
  },
  {
   "cell_type": "markdown",
   "id": "05300182",
   "metadata": {},
   "source": [
    "Now I want to take a look at the distribution of seeds among the top players. "
   ]
  },
  {
   "cell_type": "code",
   "execution_count": 90,
   "id": "b507e5e7",
   "metadata": {},
   "outputs": [
    {
     "data": {
      "text/plain": [
       "0    3.0\n",
       "1    NaN\n",
       "2    3.0\n",
       "3    NaN\n",
       "4    1.0\n",
       "dtype: float64"
      ]
     },
     "execution_count": 90,
     "metadata": {},
     "output_type": "execute_result"
    }
   ],
   "source": [
    "# Concatenate the 'winner_seed' and 'loser_seed' columns to get all seed values\n",
    "all_seeds = pd.concat([stats_2023['winner_seed'], stats_2023['loser_seed']], ignore_index=True)\n",
    "all_seeds.head()\n"
   ]
  },
  {
   "cell_type": "markdown",
   "id": "930e7973",
   "metadata": {},
   "source": [
    "It seems like there are some missing values here. I might have to change the type to account for these."
   ]
  },
  {
   "cell_type": "code",
   "execution_count": 34,
   "id": "0e956491",
   "metadata": {
    "scrolled": true
   },
   "outputs": [
    {
     "name": "stdout",
     "output_type": "stream",
     "text": [
      "Seed with the most occurrences: 1.0\n",
      "Player(s) associated with the most common seed: ['Carlos Alcaraz']\n"
     ]
    }
   ],
   "source": [
    "# Convert seed values to float, handling missing values\n",
    "all_seeds = all_seeds.astype(float)\n",
    "\n",
    "# Remove missing values\n",
    "all_seeds = all_seeds[~all_seeds.isna()]\n",
    "\n",
    "# Count the occurrences of each seed\n",
    "seed_counts = all_seeds.value_counts()\n",
    "\n",
    "# Find the seed number with the highest count\n",
    "most_common_seed = seed_counts.idxmax()\n",
    "\n",
    "# Find the player(s) associated with the most common seed\n",
    "players_with_most_common_seed = stats_2023[stats_2023['winner_seed'] == most_common_seed]['winner_name'].mode()\n",
    "\n",
    "# Print the result\n",
    "print(f\"Seed with the most occurrences: {most_common_seed}\")\n",
    "print(f\"Player(s) associated with the most common seed: {players_with_most_common_seed.tolist()}\")"
   ]
  },
  {
   "cell_type": "code",
   "execution_count": 35,
   "id": "1083eab1",
   "metadata": {},
   "outputs": [
    {
     "name": "stdout",
     "output_type": "stream",
     "text": [
      "Novak Djokovic was seeded number 1 27 times.\n"
     ]
    }
   ],
   "source": [
    "# Filter for matches where Novak Djokovic was the winner and seeded number 1\n",
    "novak_seed1_wins = stats_2023[(stats_2023['winner_name'] == 'Novak Djokovic') & (stats_2023['winner_seed'] == 1)]\n",
    "\n",
    "# Filter for matches where Novak Djokovic was the loser and seeded number 1\n",
    "novak_seed1_losses = stats_2023[(stats_2023['loser_name'] == 'Novak Djokovic') & (stats_2023['loser_seed'] == 1)]\n",
    "\n",
    "# Concatenate the two DataFrames to get all matches where Novak Djokovic was seeded number 1\n",
    "novak_seed1_matches = pd.concat([novak_seed1_wins, novak_seed1_losses])\n",
    "\n",
    "# Count the number of occurrences\n",
    "novak_seed1_count = len(novak_seed1_matches)\n",
    "\n",
    "# Print the result\n",
    "print(f\"Novak Djokovic was seeded number 1 {novak_seed1_count} times.\")\n"
   ]
  },
  {
   "cell_type": "code",
   "execution_count": 37,
   "id": "0aea89d0",
   "metadata": {},
   "outputs": [
    {
     "name": "stdout",
     "output_type": "stream",
     "text": [
      "Carlos Alcaraz was seeded number 1 70 times.\n"
     ]
    }
   ],
   "source": [
    "# Filter for matches where Carlos Alcaraz was the winner and seeded number 1\n",
    "alcaraz_seed1_wins = stats_2023[(stats_2023['winner_name'] == 'Carlos Alcaraz') & (stats_2023['winner_seed'] == 1)]\n",
    "\n",
    "# Filter for matches where Carlos Alcaraz was the loser and seeded number 1\n",
    "alcaraz_seed1_losses = stats_2023[(stats_2023['loser_name'] == 'Carlos Alcaraz') & (stats_2023['loser_seed'] == 1)]\n",
    "\n",
    "# Concatenate the two DataFrames to get all matches where Carlos Alcaraz was seeded number 1\n",
    "alcaraz_seed1_matches = pd.concat([alcaraz_seed1_wins, alcaraz_seed1_losses])\n",
    "\n",
    "# Count the number of occurrences\n",
    "alcaraz_seed1_count = len(alcaraz_seed1_matches)\n",
    "\n",
    "# Print the result\n",
    "print(f\"Carlos Alcaraz was seeded number 1 {alcaraz_seed1_count} times.\")"
   ]
  },
  {
   "cell_type": "markdown",
   "id": "def67e9c",
   "metadata": {},
   "source": [
    "Wow! That's a lot!"
   ]
  },
  {
   "cell_type": "code",
   "execution_count": null,
   "id": "c824ff51",
   "metadata": {},
   "outputs": [],
   "source": []
  }
 ],
 "metadata": {
  "kernelspec": {
   "display_name": "Python 3 (ipykernel)",
   "language": "python",
   "name": "python3"
  },
  "language_info": {
   "codemirror_mode": {
    "name": "ipython",
    "version": 3
   },
   "file_extension": ".py",
   "mimetype": "text/x-python",
   "name": "python",
   "nbconvert_exporter": "python",
   "pygments_lexer": "ipython3",
   "version": "3.12.0"
  }
 },
 "nbformat": 4,
 "nbformat_minor": 5
}
